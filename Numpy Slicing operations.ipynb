{
 "cells": [
  {
   "cell_type": "code",
   "execution_count": 54,
   "id": "4405968d",
   "metadata": {},
   "outputs": [],
   "source": [
    "import numpy as np "
   ]
  },
  {
   "cell_type": "code",
   "execution_count": 53,
   "id": "ece8d54d",
   "metadata": {},
   "outputs": [
    {
     "name": "stdout",
     "output_type": "stream",
     "text": [
      "[0 1 2 3 4]\n"
     ]
    }
   ],
   "source": [
    "# Create a numpy array\n",
    "a = np.array([0, 1, 2, 3, 4])\n",
    "print(a)"
   ]
  },
  {
   "cell_type": "code",
   "execution_count": 4,
   "id": "07b4049a",
   "metadata": {},
   "outputs": [
    {
     "data": {
      "text/plain": [
       "numpy.ndarray"
      ]
     },
     "execution_count": 4,
     "metadata": {},
     "output_type": "execute_result"
    }
   ],
   "source": [
    "# Check the type of the array\n",
    "type(a)"
   ]
  },
  {
   "cell_type": "code",
   "execution_count": 5,
   "id": "56e25e98",
   "metadata": {},
   "outputs": [
    {
     "data": {
      "text/plain": [
       "dtype('int32')"
      ]
     },
     "execution_count": 5,
     "metadata": {},
     "output_type": "execute_result"
    }
   ],
   "source": [
    "# Check the type of the values stored in numpy array\n",
    "a.dtype"
   ]
  },
  {
   "cell_type": "code",
   "execution_count": 8,
   "id": "f636dcdb",
   "metadata": {},
   "outputs": [
    {
     "name": "stdout",
     "output_type": "stream",
     "text": [
      "[100   1   2   3   4]\n"
     ]
    }
   ],
   "source": [
    "# Assign the first element to 100\n",
    "a[0] = 100\n",
    "print(a)"
   ]
  },
  {
   "cell_type": "code",
   "execution_count": 9,
   "id": "4351f1e9",
   "metadata": {},
   "outputs": [
    {
     "name": "stdout",
     "output_type": "stream",
     "text": [
      "[100   1   2   3   0]\n"
     ]
    }
   ],
   "source": [
    "# Assign the 5th element to 0\n",
    "a[4] = 0\n",
    "print(a)"
   ]
  },
  {
   "cell_type": "markdown",
   "id": "62437b94",
   "metadata": {},
   "source": [
    "# slicing"
   ]
  },
  {
   "cell_type": "code",
   "execution_count": 10,
   "id": "272a3b37",
   "metadata": {},
   "outputs": [
    {
     "data": {
      "text/plain": [
       "array([1, 2, 3])"
      ]
     },
     "execution_count": 10,
     "metadata": {},
     "output_type": "execute_result"
    }
   ],
   "source": [
    "# Slicing the numpy array [start:end]\n",
    "a[1:4]"
   ]
  },
  {
   "cell_type": "code",
   "execution_count": 11,
   "id": "60049802",
   "metadata": {},
   "outputs": [],
   "source": [
    "# Set the fourth element and fifth element to 300 and 400\n",
    "a[3:5] = 300, 400"
   ]
  },
  {
   "cell_type": "code",
   "execution_count": 12,
   "id": "5d9b277c",
   "metadata": {},
   "outputs": [
    {
     "name": "stdout",
     "output_type": "stream",
     "text": [
      "[2 4]\n"
     ]
    }
   ],
   "source": [
    "#We can also define the steps in slicing, like this: [start:end:step]\n",
    "\n",
    "arr = np.array([1, 2, 3, 4, 5, 6, 7])\n",
    "print(arr[1:5:2])"
   ]
  },
  {
   "cell_type": "code",
   "execution_count": 17,
   "id": "a64774b5",
   "metadata": {},
   "outputs": [
    {
     "name": "stdout",
     "output_type": "stream",
     "text": [
      "[1 2 3 4]\n"
     ]
    }
   ],
   "source": [
    "# If we don't pass start its considered 0\n",
    "print(arr[:4])"
   ]
  },
  {
   "cell_type": "code",
   "execution_count": 16,
   "id": "fc3a76f6",
   "metadata": {},
   "outputs": [
    {
     "name": "stdout",
     "output_type": "stream",
     "text": [
      "[5 6 7]\n"
     ]
    }
   ],
   "source": [
    "# If we don't pass end it considers till the length of array.\n",
    "print(arr[4:])"
   ]
  },
  {
   "cell_type": "code",
   "execution_count": 18,
   "id": "35a7ae7b",
   "metadata": {},
   "outputs": [
    {
     "name": "stdout",
     "output_type": "stream",
     "text": [
      "[2 3 4 5]\n"
     ]
    }
   ],
   "source": [
    "# If we don't pass step its considered 1\n",
    "print(arr[1:5:])"
   ]
  },
  {
   "cell_type": "markdown",
   "id": "2c4b3a57",
   "metadata": {},
   "source": [
    "# Attributes"
   ]
  },
  {
   "cell_type": "code",
   "execution_count": 26,
   "id": "1bc6355f",
   "metadata": {},
   "outputs": [
    {
     "data": {
      "text/plain": [
       "5"
      ]
     },
     "execution_count": 26,
     "metadata": {},
     "output_type": "execute_result"
    }
   ],
   "source": [
    "# Get the size\n",
    "\n",
    "a.size"
   ]
  },
  {
   "cell_type": "code",
   "execution_count": 27,
   "id": "357913ea",
   "metadata": {},
   "outputs": [
    {
     "data": {
      "text/plain": [
       "1"
      ]
     },
     "execution_count": 27,
     "metadata": {},
     "output_type": "execute_result"
    }
   ],
   "source": [
    "# Get the number of dimensions\n",
    "\n",
    "a.ndim"
   ]
  },
  {
   "cell_type": "code",
   "execution_count": 28,
   "id": "883711c8",
   "metadata": {},
   "outputs": [
    {
     "data": {
      "text/plain": [
       "(5,)"
      ]
     },
     "execution_count": 28,
     "metadata": {},
     "output_type": "execute_result"
    }
   ],
   "source": [
    "# Get the shape(:number of elements per axis)\n",
    "\n",
    "a.shape"
   ]
  },
  {
   "cell_type": "markdown",
   "id": "854d59df",
   "metadata": {},
   "source": [
    "# Statistical functions"
   ]
  },
  {
   "cell_type": "code",
   "execution_count": 38,
   "id": "64d0743c",
   "metadata": {},
   "outputs": [],
   "source": [
    "a = np.array([1, -1, 7, 3])"
   ]
  },
  {
   "cell_type": "code",
   "execution_count": 39,
   "id": "4c369a03",
   "metadata": {},
   "outputs": [
    {
     "data": {
      "text/plain": [
       "2.5"
      ]
     },
     "execution_count": 39,
     "metadata": {},
     "output_type": "execute_result"
    }
   ],
   "source": [
    "# Get the mean of numpy array\n",
    "mean = a.mean()\n",
    "mean"
   ]
  },
  {
   "cell_type": "code",
   "execution_count": 40,
   "id": "8f658176",
   "metadata": {},
   "outputs": [
    {
     "data": {
      "text/plain": [
       "2.958039891549808"
      ]
     },
     "execution_count": 40,
     "metadata": {},
     "output_type": "execute_result"
    }
   ],
   "source": [
    "# Get the standard deviation of numpy array\n",
    "\n",
    "standard_deviation=a.std()\n",
    "standard_deviation"
   ]
  },
  {
   "cell_type": "code",
   "execution_count": 43,
   "id": "7eecc671",
   "metadata": {},
   "outputs": [
    {
     "data": {
      "text/plain": [
       "7"
      ]
     },
     "execution_count": 43,
     "metadata": {},
     "output_type": "execute_result"
    }
   ],
   "source": [
    "# Get the biggest value in the numpy array\n",
    "\n",
    "max = a.max()\n",
    "max"
   ]
  },
  {
   "cell_type": "code",
   "execution_count": 44,
   "id": "439daa1c",
   "metadata": {},
   "outputs": [
    {
     "data": {
      "text/plain": [
       "-1"
      ]
     },
     "execution_count": 44,
     "metadata": {},
     "output_type": "execute_result"
    }
   ],
   "source": [
    "# Get the smallest value in the numpy array\n",
    "\n",
    "\n",
    "min = a.min()\n",
    "min"
   ]
  },
  {
   "cell_type": "code",
   "execution_count": 45,
   "id": "76e673d6",
   "metadata": {},
   "outputs": [
    {
     "data": {
      "text/plain": [
       "6"
      ]
     },
     "execution_count": 45,
     "metadata": {},
     "output_type": "execute_result"
    }
   ],
   "source": [
    "#Find the sum of maximum and minimum values \n",
    "\n",
    "Sum = (max +min)\n",
    "Sum"
   ]
  },
  {
   "cell_type": "markdown",
   "id": "b368c517",
   "metadata": {},
   "source": [
    "# Array Operations"
   ]
  },
  {
   "cell_type": "code",
   "execution_count": 62,
   "id": "7aa2bda3",
   "metadata": {},
   "outputs": [],
   "source": [
    "u = np.array([1, 2])\n",
    "v = np.array([4, 5])"
   ]
  },
  {
   "cell_type": "code",
   "execution_count": 63,
   "id": "93914a36",
   "metadata": {},
   "outputs": [
    {
     "data": {
      "text/plain": [
       "array([5, 7])"
      ]
     },
     "execution_count": 63,
     "metadata": {},
     "output_type": "execute_result"
    }
   ],
   "source": [
    "# Numpy Array Addition\n",
    "\n",
    "z = np.add(u, v)\n",
    "z"
   ]
  },
  {
   "cell_type": "code",
   "execution_count": 64,
   "id": "f41c5df2",
   "metadata": {},
   "outputs": [
    {
     "data": {
      "text/plain": [
       "array([ 1, -5])"
      ]
     },
     "execution_count": 64,
     "metadata": {},
     "output_type": "execute_result"
    }
   ],
   "source": [
    "# Numpy Array subtraction\n",
    "\n",
    "s = np.subtract(u, v)\n",
    "c"
   ]
  },
  {
   "cell_type": "code",
   "execution_count": 65,
   "id": "1a6d9b8e",
   "metadata": {},
   "outputs": [
    {
     "data": {
      "text/plain": [
       "array([ 4, 10])"
      ]
     },
     "execution_count": 65,
     "metadata": {},
     "output_type": "execute_result"
    }
   ],
   "source": [
    "# Numpy Array Multiplication\n",
    "\n",
    "m = np.multiply(u, v)\n",
    "m"
   ]
  },
  {
   "cell_type": "code",
   "execution_count": 66,
   "id": "af65d784",
   "metadata": {},
   "outputs": [
    {
     "data": {
      "text/plain": [
       "array([0.25, 0.4 ])"
      ]
     },
     "execution_count": 66,
     "metadata": {},
     "output_type": "execute_result"
    }
   ],
   "source": [
    "# Numpy Array Division\n",
    "d = np.divide(u, v)\n",
    "d"
   ]
  },
  {
   "cell_type": "code",
   "execution_count": 67,
   "id": "5b4fe42e",
   "metadata": {},
   "outputs": [
    {
     "data": {
      "text/plain": [
       "14"
      ]
     },
     "execution_count": 67,
     "metadata": {},
     "output_type": "execute_result"
    }
   ],
   "source": [
    "# Numpy Array dot product\n",
    "\n",
    "np.dot(u, v)"
   ]
  },
  {
   "cell_type": "markdown",
   "id": "06fafb91",
   "metadata": {},
   "source": [
    "# Exercice"
   ]
  },
  {
   "cell_type": "code",
   "execution_count": 69,
   "id": "47cdfb96",
   "metadata": {},
   "outputs": [
    {
     "name": "stdout",
     "output_type": "stream",
     "text": [
      "even for array1 [2 4]\n",
      "odd for array1 [1 3 5]\n",
      "even for array2 [ 6  8 10]\n",
      "odd for array2 [7 9]\n"
     ]
    }
   ],
   "source": [
    "#Convert the list [1, 2, 3, 4, 5] and [6, 7, 8, 9, 10] to numpy arrays arr1 and arr2. \n",
    "#Then find the even and odd numbers from 2 different arrays.\n",
    "\n",
    "\n",
    "arr1 = np.array([1, 2, 3, 4, 5])\n",
    "arr2 = np.array([6, 7, 8, 9, 10])\n",
    "\n",
    "even_arr1 = arr1[1:5:2]\n",
    "print(\"even for array1\",even_arr1)\n",
    "    \n",
    "odd_arr1=arr1[0:5:2]\n",
    "print(\"odd for array1\",odd_arr1)\n",
    "\n",
    "even_arr2 = arr2[0:5:2]\n",
    "print(\"even for array2\",even_arr2)\n",
    "    \n",
    "odd_arr2=arr2[1:5:2]\n",
    "print(\"odd for array2\",odd_arr2)"
   ]
  },
  {
   "cell_type": "code",
   "execution_count": null,
   "id": "dd101263",
   "metadata": {},
   "outputs": [],
   "source": []
  }
 ],
 "metadata": {
  "kernelspec": {
   "display_name": "Python 3 (ipykernel)",
   "language": "python",
   "name": "python3"
  },
  "language_info": {
   "codemirror_mode": {
    "name": "ipython",
    "version": 3
   },
   "file_extension": ".py",
   "mimetype": "text/x-python",
   "name": "python",
   "nbconvert_exporter": "python",
   "pygments_lexer": "ipython3",
   "version": "3.11.2"
  }
 },
 "nbformat": 4,
 "nbformat_minor": 5
}
