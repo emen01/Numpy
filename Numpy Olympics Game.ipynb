{
 "cells": [
  {
   "cell_type": "code",
   "execution_count": 1,
   "id": "fd2db3a8",
   "metadata": {},
   "outputs": [],
   "source": [
    "import numpy as np"
   ]
  },
  {
   "cell_type": "code",
   "execution_count": 4,
   "id": "c3b0c5d9",
   "metadata": {},
   "outputs": [],
   "source": [
    "#Dataset as arrays for \"OLYMPICS, London 2012\"\n",
    "countries = np.array(['Great Britain','China','Russia','United States','Korea','Japan','Germany'])\n",
    "gold = np.array([29,38,24,46,13,7,11])\n",
    "bronze = np.array([19,22,32,29,7,17,14])\n",
    "silver = np.array([17,28,25,28,8,14,11])"
   ]
  },
  {
   "cell_type": "code",
   "execution_count": 6,
   "id": "fd0c9350",
   "metadata": {},
   "outputs": [
    {
     "name": "stdout",
     "output_type": "stream",
     "text": [
      "Japan\n"
     ]
    }
   ],
   "source": [
    "#Find the country name with minimum gold medals\n",
    "min_gold = np.argmin (gold)\n",
    "country = countries [min_gold]\n",
    "print(country)"
   ]
  },
  {
   "cell_type": "code",
   "execution_count": 7,
   "id": "1af32f5d",
   "metadata": {},
   "outputs": [
    {
     "name": "stdout",
     "output_type": "stream",
     "text": [
      "United States\n"
     ]
    }
   ],
   "source": [
    "#Find the country name with maximum gold medals\n",
    "max_gold = np.argmax (gold)\n",
    "country = countries [max_gold]\n",
    "print(country)"
   ]
  },
  {
   "cell_type": "code",
   "execution_count": 8,
   "id": "f073a1de",
   "metadata": {},
   "outputs": [
    {
     "name": "stdout",
     "output_type": "stream",
     "text": [
      "['Great Britain' 'China' 'Russia' 'United States']\n"
     ]
    }
   ],
   "source": [
    "#Find the countries with more than 20 gold medals\n",
    "print (countries[gold>20])"
   ]
  },
  {
   "cell_type": "code",
   "execution_count": 16,
   "id": "a3320c88",
   "metadata": {},
   "outputs": [
    {
     "name": "stdout",
     "output_type": "stream",
     "text": [
      "Name of the country : Great Britain with 29 gold medals and total medals 48.\n",
      "Name of the country : China with 38 gold medals and total medals 60.\n",
      "Name of the country : Russia with 24 gold medals and total medals 56.\n",
      "Name of the country : United States with 46 gold medals and total medals 75.\n",
      "Name of the country : Korea with 13 gold medals and total medals 20.\n",
      "Name of the country : Japan with 7 gold medals and total medals 24.\n",
      "Name of the country : Germany with 11 gold medals and total medals 25.\n"
     ]
    }
   ],
   "source": [
    "for i in range(len(countries)):\n",
    "    print(\"Name of the country : {} with {} gold medals and total medals {}\".format(countries[i],gold[i],np.add(gold,bronze,silver)[i]))"
   ]
  },
  {
   "cell_type": "code",
   "execution_count": 17,
   "id": "dff30311",
   "metadata": {},
   "outputs": [
    {
     "data": {
      "text/plain": [
       "dtype('<U13')"
      ]
     },
     "execution_count": 17,
     "metadata": {},
     "output_type": "execute_result"
    }
   ],
   "source": [
    "countries.dtype"
   ]
  },
  {
   "cell_type": "code",
   "execution_count": 18,
   "id": "dcbd7c54",
   "metadata": {},
   "outputs": [
    {
     "data": {
      "text/plain": [
       "dtype('int32')"
      ]
     },
     "execution_count": 18,
     "metadata": {},
     "output_type": "execute_result"
    }
   ],
   "source": [
    "gold.dtype"
   ]
  },
  {
   "cell_type": "code",
   "execution_count": 19,
   "id": "e76f8b5d",
   "metadata": {},
   "outputs": [
    {
     "data": {
      "text/plain": [
       "'int32'"
      ]
     },
     "execution_count": 19,
     "metadata": {},
     "output_type": "execute_result"
    }
   ],
   "source": [
    "gold.dtype.name"
   ]
  },
  {
   "cell_type": "code",
   "execution_count": null,
   "id": "db2d9b2f",
   "metadata": {},
   "outputs": [],
   "source": []
  }
 ],
 "metadata": {
  "kernelspec": {
   "display_name": "Python 3 (ipykernel)",
   "language": "python",
   "name": "python3"
  },
  "language_info": {
   "codemirror_mode": {
    "name": "ipython",
    "version": 3
   },
   "file_extension": ".py",
   "mimetype": "text/x-python",
   "name": "python",
   "nbconvert_exporter": "python",
   "pygments_lexer": "ipython3",
   "version": "3.11.2"
  }
 },
 "nbformat": 4,
 "nbformat_minor": 5
}
